{
 "cells": [
  {
   "cell_type": "code",
   "execution_count": 11,
   "id": "f4db0e98-1193-449f-8768-623a49ca718d",
   "metadata": {},
   "outputs": [],
   "source": [
    "import pandas as pd\n"
   ]
  },
  {
   "cell_type": "code",
   "execution_count": 14,
   "id": "6b80dbfd-0cfa-473e-8d4b-5aa4ee764452",
   "metadata": {},
   "outputs": [],
   "source": [
    "#load Dataset\n",
    "df = pd.read_csv(r\"C:\\Users\\yegan\\Customer-Churn-Analysis\\Telco-Customer-Churn.csv\")\n",
    "\n"
   ]
  },
  {
   "cell_type": "code",
   "execution_count": 15,
   "id": "b6a2a1db-8d9f-40c0-a35f-3d6c85f9c170",
   "metadata": {},
   "outputs": [
    {
     "name": "stdout",
     "output_type": "stream",
     "text": [
      "   customerID  gender  SeniorCitizen Partner Dependents  tenure PhoneService  \\\n",
      "0  7590-VHVEG  Female              0     Yes         No       1           No   \n",
      "1  5575-GNVDE    Male              0      No         No      34          Yes   \n",
      "2  3668-QPYBK    Male              0      No         No       2          Yes   \n",
      "3  7795-CFOCW    Male              0      No         No      45           No   \n",
      "4  9237-HQITU  Female              0      No         No       2          Yes   \n",
      "\n",
      "      MultipleLines InternetService OnlineSecurity  ... DeviceProtection  \\\n",
      "0  No phone service             DSL             No  ...               No   \n",
      "1                No             DSL            Yes  ...              Yes   \n",
      "2                No             DSL            Yes  ...               No   \n",
      "3  No phone service             DSL            Yes  ...              Yes   \n",
      "4                No     Fiber optic             No  ...               No   \n",
      "\n",
      "  TechSupport StreamingTV StreamingMovies        Contract PaperlessBilling  \\\n",
      "0          No          No              No  Month-to-month              Yes   \n",
      "1          No          No              No        One year               No   \n",
      "2          No          No              No  Month-to-month              Yes   \n",
      "3         Yes          No              No        One year               No   \n",
      "4          No          No              No  Month-to-month              Yes   \n",
      "\n",
      "               PaymentMethod MonthlyCharges  TotalCharges Churn  \n",
      "0           Electronic check          29.85         29.85    No  \n",
      "1               Mailed check          56.95        1889.5    No  \n",
      "2               Mailed check          53.85        108.15   Yes  \n",
      "3  Bank transfer (automatic)          42.30       1840.75    No  \n",
      "4           Electronic check          70.70        151.65   Yes  \n",
      "\n",
      "[5 rows x 21 columns]\n"
     ]
    }
   ],
   "source": [
    "#Print few rows\n",
    "print(df.head())"
   ]
  },
  {
   "cell_type": "code",
   "execution_count": 19,
   "id": "7fc2845f-f320-4a88-bc0d-489e001b80a0",
   "metadata": {
    "scrolled": true
   },
   "outputs": [
    {
     "name": "stdout",
     "output_type": "stream",
     "text": [
      "      customerID  gender  SeniorCitizen Partner Dependents  tenure  \\\n",
      "7033  9767-FFLEM    Male              0      No         No      38   \n",
      "7034  0639-TSIQW  Female              0      No         No      67   \n",
      "7035  8456-QDAVC    Male              0      No         No      19   \n",
      "7036  7750-EYXWZ  Female              0      No         No      12   \n",
      "7037  2569-WGERO  Female              0      No         No      72   \n",
      "7038  6840-RESVB    Male              0     Yes        Yes      24   \n",
      "7039  2234-XADUH  Female              0     Yes        Yes      72   \n",
      "7040  4801-JZAZL  Female              0     Yes        Yes      11   \n",
      "7041  8361-LTMKD    Male              1     Yes         No       4   \n",
      "7042  3186-AJIEK    Male              0      No         No      66   \n",
      "\n",
      "     PhoneService     MultipleLines InternetService       OnlineSecurity  ...  \\\n",
      "7033          Yes                No     Fiber optic                   No  ...   \n",
      "7034          Yes               Yes     Fiber optic                  Yes  ...   \n",
      "7035          Yes                No     Fiber optic                   No  ...   \n",
      "7036           No  No phone service             DSL                   No  ...   \n",
      "7037          Yes                No              No  No internet service  ...   \n",
      "7038          Yes               Yes             DSL                  Yes  ...   \n",
      "7039          Yes               Yes     Fiber optic                   No  ...   \n",
      "7040           No  No phone service             DSL                  Yes  ...   \n",
      "7041          Yes               Yes     Fiber optic                   No  ...   \n",
      "7042          Yes                No     Fiber optic                  Yes  ...   \n",
      "\n",
      "         DeviceProtection          TechSupport          StreamingTV  \\\n",
      "7033                   No                   No                   No   \n",
      "7034                  Yes                   No                  Yes   \n",
      "7035                   No                   No                  Yes   \n",
      "7036                  Yes                  Yes                  Yes   \n",
      "7037  No internet service  No internet service  No internet service   \n",
      "7038                  Yes                  Yes                  Yes   \n",
      "7039                  Yes                   No                  Yes   \n",
      "7040                   No                   No                   No   \n",
      "7041                   No                   No                   No   \n",
      "7042                  Yes                  Yes                  Yes   \n",
      "\n",
      "          StreamingMovies        Contract PaperlessBilling  \\\n",
      "7033                   No  Month-to-month              Yes   \n",
      "7034                   No  Month-to-month              Yes   \n",
      "7035                   No  Month-to-month              Yes   \n",
      "7036                  Yes        One year               No   \n",
      "7037  No internet service        Two year              Yes   \n",
      "7038                  Yes        One year              Yes   \n",
      "7039                  Yes        One year              Yes   \n",
      "7040                   No  Month-to-month              Yes   \n",
      "7041                   No  Month-to-month              Yes   \n",
      "7042                  Yes        Two year              Yes   \n",
      "\n",
      "                  PaymentMethod MonthlyCharges  TotalCharges Churn  \n",
      "7033    Credit card (automatic)          69.50       2625.25    No  \n",
      "7034    Credit card (automatic)         102.95       6886.25   Yes  \n",
      "7035  Bank transfer (automatic)          78.70        1495.1    No  \n",
      "7036           Electronic check          60.65         743.3    No  \n",
      "7037  Bank transfer (automatic)          21.15        1419.4    No  \n",
      "7038               Mailed check          84.80        1990.5    No  \n",
      "7039    Credit card (automatic)         103.20        7362.9    No  \n",
      "7040           Electronic check          29.60        346.45    No  \n",
      "7041               Mailed check          74.40         306.6   Yes  \n",
      "7042  Bank transfer (automatic)         105.65        6844.5    No  \n",
      "\n",
      "[10 rows x 21 columns]\n"
     ]
    }
   ],
   "source": [
    "#display the last 10 rows instead\n",
    "print(df.tail(10))"
   ]
  },
  {
   "cell_type": "code",
   "execution_count": 20,
   "id": "7abbdd8c-2615-492f-8d18-21f8c2b3a10d",
   "metadata": {},
   "outputs": [
    {
     "name": "stdout",
     "output_type": "stream",
     "text": [
      "<class 'pandas.core.frame.DataFrame'>\n",
      "RangeIndex: 7043 entries, 0 to 7042\n",
      "Data columns (total 21 columns):\n",
      " #   Column            Non-Null Count  Dtype  \n",
      "---  ------            --------------  -----  \n",
      " 0   customerID        7043 non-null   object \n",
      " 1   gender            7043 non-null   object \n",
      " 2   SeniorCitizen     7043 non-null   int64  \n",
      " 3   Partner           7043 non-null   object \n",
      " 4   Dependents        7043 non-null   object \n",
      " 5   tenure            7043 non-null   int64  \n",
      " 6   PhoneService      7043 non-null   object \n",
      " 7   MultipleLines     7043 non-null   object \n",
      " 8   InternetService   7043 non-null   object \n",
      " 9   OnlineSecurity    7043 non-null   object \n",
      " 10  OnlineBackup      7043 non-null   object \n",
      " 11  DeviceProtection  7043 non-null   object \n",
      " 12  TechSupport       7043 non-null   object \n",
      " 13  StreamingTV       7043 non-null   object \n",
      " 14  StreamingMovies   7043 non-null   object \n",
      " 15  Contract          7043 non-null   object \n",
      " 16  PaperlessBilling  7043 non-null   object \n",
      " 17  PaymentMethod     7043 non-null   object \n",
      " 18  MonthlyCharges    7043 non-null   float64\n",
      " 19  TotalCharges      7043 non-null   object \n",
      " 20  Churn             7043 non-null   object \n",
      "dtypes: float64(1), int64(2), object(18)\n",
      "memory usage: 1.1+ MB\n",
      "\n",
      "INFO:\n",
      " None\n"
     ]
    }
   ],
   "source": [
    "#display technical summary of the DataFrame\n",
    "print(\"\\nINFO:\\n\", df.info())"
   ]
  },
  {
   "cell_type": "code",
   "execution_count": 16,
   "id": "d8d437c9-da42-4c66-ae9d-40b6ea692b6b",
   "metadata": {
    "scrolled": true
   },
   "outputs": [
    {
     "name": "stdout",
     "output_type": "stream",
     "text": [
      "\n",
      "Missing Values:\n",
      " customerID          0\n",
      "gender              0\n",
      "SeniorCitizen       0\n",
      "Partner             0\n",
      "Dependents          0\n",
      "tenure              0\n",
      "PhoneService        0\n",
      "MultipleLines       0\n",
      "InternetService     0\n",
      "OnlineSecurity      0\n",
      "OnlineBackup        0\n",
      "DeviceProtection    0\n",
      "TechSupport         0\n",
      "StreamingTV         0\n",
      "StreamingMovies     0\n",
      "Contract            0\n",
      "PaperlessBilling    0\n",
      "PaymentMethod       0\n",
      "MonthlyCharges      0\n",
      "TotalCharges        0\n",
      "Churn               0\n",
      "dtype: int64\n"
     ]
    }
   ],
   "source": [
    "#check for missing value \n",
    "print(\"\\nMissing Values:\\n\", df.isnull().sum())"
   ]
  },
  {
   "cell_type": "code",
   "execution_count": 17,
   "id": "e85d23c8-e898-4afb-b840-f6c76563c48e",
   "metadata": {},
   "outputs": [
    {
     "name": "stdout",
     "output_type": "stream",
     "text": [
      "\n",
      "Basic Statistic\n",
      "        SeniorCitizen       tenure  MonthlyCharges\n",
      "count    7043.000000  7043.000000     7043.000000\n",
      "mean        0.162147    32.371149       64.761692\n",
      "std         0.368612    24.559481       30.090047\n",
      "min         0.000000     0.000000       18.250000\n",
      "25%         0.000000     9.000000       35.500000\n",
      "50%         0.000000    29.000000       70.350000\n",
      "75%         0.000000    55.000000       89.850000\n",
      "max         1.000000    72.000000      118.750000\n"
     ]
    }
   ],
   "source": [
    "#display basic statistics\n",
    "print(\"\\nBasic Statistic\\n\", df.describe())"
   ]
  },
  {
   "cell_type": "code",
   "execution_count": 18,
   "id": "6a03c46d-3d9d-4abc-b1cd-35eb80b0fbd9",
   "metadata": {},
   "outputs": [
    {
     "name": "stdout",
     "output_type": "stream",
     "text": [
      "\n",
      "Data Types\n",
      " customerID           object\n",
      "gender               object\n",
      "SeniorCitizen         int64\n",
      "Partner              object\n",
      "Dependents           object\n",
      "tenure                int64\n",
      "PhoneService         object\n",
      "MultipleLines        object\n",
      "InternetService      object\n",
      "OnlineSecurity       object\n",
      "OnlineBackup         object\n",
      "DeviceProtection     object\n",
      "TechSupport          object\n",
      "StreamingTV          object\n",
      "StreamingMovies      object\n",
      "Contract             object\n",
      "PaperlessBilling     object\n",
      "PaymentMethod        object\n",
      "MonthlyCharges      float64\n",
      "TotalCharges         object\n",
      "Churn                object\n",
      "dtype: object\n"
     ]
    }
   ],
   "source": [
    "#display the data types of the coloums\n",
    "print(\"\\nData Types\\n\", df.dtypes)"
   ]
  },
  {
   "cell_type": "code",
   "execution_count": null,
   "id": "99a7a661-14ac-4fcb-8994-5b7a36fac100",
   "metadata": {},
   "outputs": [],
   "source": []
  },
  {
   "cell_type": "code",
   "execution_count": null,
   "id": "b8e79561-7396-4c75-b196-eb7e8965d818",
   "metadata": {},
   "outputs": [],
   "source": []
  }
 ],
 "metadata": {
  "kernelspec": {
   "display_name": "Python 3 (ipykernel)",
   "language": "python",
   "name": "python3"
  },
  "language_info": {
   "codemirror_mode": {
    "name": "ipython",
    "version": 3
   },
   "file_extension": ".py",
   "mimetype": "text/x-python",
   "name": "python",
   "nbconvert_exporter": "python",
   "pygments_lexer": "ipython3",
   "version": "3.11.4"
  }
 },
 "nbformat": 4,
 "nbformat_minor": 5
}
